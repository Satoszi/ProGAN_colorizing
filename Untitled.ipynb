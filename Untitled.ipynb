{
 "cells": [
  {
   "cell_type": "code",
   "execution_count": 1,
   "id": "40d7d559",
   "metadata": {},
   "outputs": [],
   "source": [
    "%load_ext autoreload \n",
    "%autoreload 2"
   ]
  },
  {
   "cell_type": "code",
   "execution_count": 2,
   "id": "dfeebbf2",
   "metadata": {},
   "outputs": [
    {
     "name": "stderr",
     "output_type": "stream",
     "text": [
      "C:\\Users\\mati\\anaconda3\\envs\\GPU-pytorch-2022-12\\lib\\site-packages\\tqdm\\auto.py:22: TqdmWarning: IProgress not found. Please update jupyter and ipywidgets. See https://ipywidgets.readthedocs.io/en/stable/user_install.html\n",
      "  from .autonotebook import tqdm as notebook_tqdm\n",
      "C:\\Users\\mati\\anaconda3\\envs\\GPU-pytorch-2022-12\\lib\\site-packages\\tqdm\\auto.py:22: TqdmWarning: IProgress not found. Please update jupyter and ipywidgets. See https://ipywidgets.readthedocs.io/en/stable/user_install.html\n",
      "  from .autonotebook import tqdm as notebook_tqdm\n"
     ]
    }
   ],
   "source": [
    "import torch.nn.functional as F"
   ]
  },
  {
   "cell_type": "code",
   "execution_count": 3,
   "id": "1acdd305",
   "metadata": {},
   "outputs": [],
   "source": [
    "\"\"\" Training of ProGAN using WGAN-GP loss\"\"\"\n",
    "\n",
    "import torch\n",
    "import torch.optim as optim\n",
    "import torchvision.datasets as datasets\n",
    "import torchvision.transforms as transforms\n",
    "from torch.utils.data import DataLoader\n",
    "from torch.utils.tensorboard import SummaryWriter\n",
    "from utils import (\n",
    "    gradient_penalty,\n",
    "    plot_to_tensorboard,\n",
    "    save_checkpoint,\n",
    "    load_checkpoint,\n",
    "    generate_examples,\n",
    ")\n",
    "# from model import Discriminator, Generator\n",
    "from model_gen_unet import Discriminator, Generator\n",
    "\n",
    "from math import log2\n",
    "from tqdm import tqdm\n",
    "import config\n",
    "\n",
    "torch.backends.cudnn.benchmarks = True"
   ]
  },
  {
   "cell_type": "code",
   "execution_count": 4,
   "id": "ad58e806",
   "metadata": {},
   "outputs": [],
   "source": [
    "\n",
    "def get_loader(image_size):\n",
    "    transform = transforms.Compose(\n",
    "        [\n",
    "            transforms.Resize((image_size, image_size)),\n",
    "            transforms.ToTensor(),\n",
    "            transforms.RandomHorizontalFlip(p=0.5),\n",
    "            transforms.Normalize(\n",
    "                [0.5 for _ in range(config.CHANNELS_IMG)],\n",
    "                [0.5 for _ in range(config.CHANNELS_IMG)],\n",
    "            ),\n",
    "        ]\n",
    "    )\n",
    "    batch_size = config.BATCH_SIZES[int(log2(image_size / 4))]\n",
    "    dataset = datasets.ImageFolder(root=config.DATASET, transform=transform)\n",
    "    loader = DataLoader(\n",
    "        dataset,\n",
    "        batch_size=batch_size,\n",
    "        shuffle=True,\n",
    "        num_workers=config.NUM_WORKERS,\n",
    "        pin_memory=True,\n",
    "    )\n",
    "    return loader, dataset\n",
    "\n"
   ]
  },
  {
   "cell_type": "code",
   "execution_count": 5,
   "id": "b9ad9ac7",
   "metadata": {},
   "outputs": [],
   "source": [
    "\n",
    "def train_fn(\n",
    "    critic,\n",
    "    gen,\n",
    "    loader,\n",
    "    dataset,\n",
    "    step,\n",
    "    alpha,\n",
    "    opt_critic,\n",
    "    opt_gen,\n",
    "    tensorboard_step,\n",
    "    writer,\n",
    "    scaler_gen,\n",
    "    scaler_critic,\n",
    "):\n",
    "    loop = tqdm(loader, leave=True)\n",
    "\n",
    "####################\n",
    "\n",
    "#     for batch_idx, (real, _) in enumerate(loop):\n",
    "\n",
    "#         real = real.to(config.DEVICE)\n",
    "#         cur_batch_size = real.shape[0]\n",
    "\n",
    "#         # Train Critic: max E[critic(real)] - E[critic(fake)] <-> min -E[critic(real)] + E[critic(fake)]\n",
    "#         # which is equivalent to minimizing the negative of the expression\n",
    "#         noise = real\n",
    "#         with torch.cuda.amp.autocast():\n",
    "#             fake = gen(noise, alpha, step)\n",
    "#             critic_real = critic(real, alpha, step)\n",
    "#             critic_fake = critic(fake.detach(), alpha, step)\n",
    "#             gp = gradient_penalthttp://localhost:8888/notebooks/Desktop/Workplace/Projects/colorizing_progan/Untitled.ipynb?kernel_name=gpu-pytorch-2022-10#y(critic, real, fake, alpha, step, device=config.DEVICE)\n",
    "#             loss_critic = (\n",
    "#                 -(torch.mean(critic_real) - torch.mean(critic_fake))\n",
    "#                 + config.LAMBDA_GP * gp\n",
    "#                 + (0.001 * torch.mean(critic_real ** 2))\n",
    "#             )\n",
    "\n",
    "#         opt_critic.zero_grad()\n",
    "#         scaler_critic.scale(loss_critic).backward()\n",
    "#         scaler_critic.step(opt_critic)\n",
    "#         scaler_critic.update()\n",
    "\n",
    "#         # Train Generator: max E[critic(gen_fake)] <-> min -E[critic(gen_fake)]\n",
    "#         with torch.cuda.amp.autocast():\n",
    "#             gen_fake = critic(fake, alpha, step)\n",
    "#             loss_gen = -torch.mean(gen_fake)\n",
    "\n",
    "####################\n",
    "\n",
    "    for batch_idx, (real, _) in enumerate(loop):\n",
    "        real_gray = real.mean(dim=1, keepdim=True)\n",
    "        real_gray = real_gray.to(config.DEVICE)\n",
    "        \n",
    "        real = real.to(config.DEVICE)\n",
    "        cur_batch_size = real.shape[0]\n",
    "\n",
    "        # Train Critic: max E[critic(real)] - E[critic(fake)] <-> min -E[critic(real)] + E[critic(fake)]\n",
    "        # which is equivalent to minimizing the negative of the expression\n",
    "#         noise = real_gray\n",
    "        noise = torch.randn(real_gray.shape).to(config.DEVICE) * 2 - 1\n",
    "        with torch.cuda.amp.autocast():\n",
    "            fake = gen(noise, alpha, step)\n",
    "            critic_real = critic(real, alpha, step)\n",
    "            critic_fake = critic(fake.detach(), alpha, step)\n",
    "            gp = gradient_penalty(critic, real, fake, alpha, step, device=config.DEVICE)\n",
    "            loss_critic = (\n",
    "                -(torch.mean(critic_real) - torch.mean(critic_fake))\n",
    "                + config.LAMBDA_GP * gp\n",
    "                + (0.001 * torch.mean(critic_real ** 2))\n",
    "            )\n",
    "\n",
    "        opt_critic.zero_grad()\n",
    "        scaler_critic.scale(loss_critic).backward()\n",
    "        scaler_critic.step(opt_critic)\n",
    "        scaler_critic.update()\n",
    "\n",
    "        # Train Generator: max E[critic(gen_fake)] <-> min -E[critic(gen_fake)]\n",
    "        with torch.cuda.amp.autocast():\n",
    "            gen_fake = critic(fake, alpha, step)\n",
    "            loss_gen = -torch.mean(gen_fake)\n",
    "\n",
    "####################\n",
    "\n",
    "#     for batch_idx, (real, _) in enumerate(loop):\n",
    "#         # Convert RGB to grayscale\n",
    "#         real_gray = real.mean(dim=1, keepdim=True)\n",
    "\n",
    "#         real_gray = real_gray.to(config.DEVICE)\n",
    "#         real = real.to(config.DEVICE)\n",
    "#         cur_batch_size = real.shape[0]\n",
    "\n",
    "#         # Noise is now grayscale\n",
    "#         noise = real_gray\n",
    "\n",
    "#         with torch.cuda.amp.autocast():\n",
    "#             fake = gen(noise, alpha, step)\n",
    "\n",
    "#             # Stack grayscale with RGB for critic\n",
    "#             critic_real = critic(torch.cat([real_gray, real], dim=1), alpha, step)\n",
    "#             critic_fake = critic(torch.cat([real_gray, fake.detach()], dim=1), alpha, step)\n",
    "            \n",
    "#             real_gp = torch.cat([real_gray, real], dim=1)  # Assuming real_gray contains the gray channel\n",
    "#             fake_gp = torch.cat([real_gray, fake], dim=1)\n",
    "#             gp = gradient_penalty(critic, real_gp, fake_gp, alpha, step, device=config.DEVICE)\n",
    "#             loss_critic = (\n",
    "#                 -(torch.mean(critic_real) - torch.mean(critic_fake))\n",
    "#                 + config.LAMBDA_GP * gp\n",
    "#                 + (0.001 * torch.mean(critic_real ** 2))\n",
    "#             )\n",
    "\n",
    "#         opt_critic.zero_grad()\n",
    "#         scaler_critic.scale(loss_critic).backward()\n",
    "#         scaler_critic.step(opt_critic)\n",
    "#         scaler_critic.update()\n",
    "\n",
    "#         # Generator part remains the same\n",
    "#         with torch.cuda.amp.autocast():\n",
    "#             gen_fake = critic(torch.cat([real_gray, fake], dim=1), alpha, step)\n",
    "#             loss_gen = -torch.mean(gen_fake)\n",
    "\n",
    "####################\n",
    "\n",
    "        opt_gen.zero_grad()\n",
    "        scaler_gen.scale(loss_gen).backward()\n",
    "        scaler_gen.step(opt_gen)\n",
    "        scaler_gen.update()\n",
    "\n",
    "        # Alpha update remains the same\n",
    "        alpha += cur_batch_size / (\n",
    "            (config.PROGRESSIVE_EPOCHS[step] * 0.5) * len(dataset)\n",
    "        )\n",
    "        alpha = min(alpha, 1)\n",
    "\n",
    "    \n",
    "        if batch_idx % 50 == 0:\n",
    "            with torch.no_grad():\n",
    "#                 fixed_fakes = gen(config.FIXED_NOISE, alpha, step) * 0.5 + 0.5\n",
    "\n",
    "#                 fixed_fakes  = gen(real_gray, alpha, step) * 0.5 + 0.5\n",
    "#                 fixed_fakes0 = gen(real_gray, 0    , step) * 0.5 + 0.5\n",
    "#                 fixed_fakes1 = real_gray * 0.5 + 0.5\n",
    "            \n",
    "                fixed_fakes  = gen(noise, alpha, step) * 0.5 + 0.5\n",
    "                fixed_fakes0 = gen(noise, 0    , step) * 0.5 + 0.5\n",
    "                fixed_fakes1 = noise * 0.5 + 0.5\n",
    "            plot_to_tensorboard(\n",
    "                writer,\n",
    "                loss_critic.item(),\n",
    "                loss_gen.item(),\n",
    "                real.detach(),\n",
    "                fixed_fakes.detach(),\n",
    "                fixed_fakes0.detach(),\n",
    "                fixed_fakes1.detach(),\n",
    "                tensorboard_step,\n",
    "            )\n",
    "            tensorboard_step += 1\n",
    "\n",
    "        loop.set_postfix(\n",
    "            gp=gp.item(),\n",
    "            loss_critic=loss_critic.item(),\n",
    "        )\n",
    "\n",
    "    return tensorboard_step, alpha\n",
    "\n"
   ]
  },
  {
   "cell_type": "code",
   "execution_count": 6,
   "id": "5a4db3e4",
   "metadata": {},
   "outputs": [],
   "source": [
    "##########"
   ]
  },
  {
   "cell_type": "code",
   "execution_count": null,
   "id": "57ba0884",
   "metadata": {},
   "outputs": [
    {
     "name": "stdout",
     "output_type": "stream",
     "text": [
      "Current image size: 8\n",
      "Epoch [1/6]\n"
     ]
    },
    {
     "name": "stderr",
     "output_type": "stream",
     "text": [
      "\r",
      "  0%|                                                                                         | 0/6250 [00:00<?, ?it/s]"
     ]
    },
    {
     "name": "stdout",
     "output_type": "stream",
     "text": [
      "Current image size: 8\n",
      "Epoch [1/6]\n"
     ]
    },
    {
     "name": "stderr",
     "output_type": "stream",
     "text": [
      "100%|███████████████████████████████████████████████| 6250/6250 [04:51<00:00, 21.44it/s, gp=0.00572, loss_critic=-.535]\n"
     ]
    },
    {
     "name": "stdout",
     "output_type": "stream",
     "text": [
      "=> Saving checkpoint\n",
      "=> Saving checkpoint\n"
     ]
    },
    {
     "name": "stderr",
     "output_type": "stream",
     "text": [
      "\n"
     ]
    },
    {
     "name": "stdout",
     "output_type": "stream",
     "text": [
      "Epoch [2/6]\n",
      "=> Saving checkpoint\n",
      "=> Saving checkpoint\n"
     ]
    },
    {
     "name": "stderr",
     "output_type": "stream",
     "text": [
      "\r",
      "  0%|                                                                                         | 0/6250 [00:00<?, ?it/s]"
     ]
    },
    {
     "name": "stdout",
     "output_type": "stream",
     "text": [
      "Epoch [2/6]\n"
     ]
    },
    {
     "name": "stderr",
     "output_type": "stream",
     "text": [
      "100%|███████████████████████████████████████████████| 6250/6250 [04:44<00:00, 21.97it/s, gp=0.00381, loss_critic=-.155]\n"
     ]
    },
    {
     "name": "stdout",
     "output_type": "stream",
     "text": [
      "=> Saving checkpoint\n",
      "=> Saving checkpoint\n"
     ]
    },
    {
     "name": "stderr",
     "output_type": "stream",
     "text": [
      "\n"
     ]
    },
    {
     "name": "stdout",
     "output_type": "stream",
     "text": [
      "Epoch [3/6]\n",
      "=> Saving checkpoint\n",
      "=> Saving checkpoint\n"
     ]
    },
    {
     "name": "stderr",
     "output_type": "stream",
     "text": [
      "\r",
      "  0%|                                                                                         | 0/6250 [00:00<?, ?it/s]"
     ]
    },
    {
     "name": "stdout",
     "output_type": "stream",
     "text": [
      "Epoch [3/6]\n"
     ]
    },
    {
     "name": "stderr",
     "output_type": "stream",
     "text": [
      "100%|███████████████████████████████████████████████| 6250/6250 [04:47<00:00, 21.71it/s, gp=0.00696, loss_critic=-.183]\n"
     ]
    },
    {
     "name": "stdout",
     "output_type": "stream",
     "text": [
      "=> Saving checkpoint\n",
      "=> Saving checkpoint\n"
     ]
    },
    {
     "name": "stderr",
     "output_type": "stream",
     "text": [
      "\n"
     ]
    },
    {
     "name": "stdout",
     "output_type": "stream",
     "text": [
      "Epoch [4/6]\n"
     ]
    },
    {
     "name": "stderr",
     "output_type": "stream",
     "text": [
      "\r",
      "  0%|                                                                                         | 0/6250 [00:00<?, ?it/s]"
     ]
    },
    {
     "name": "stdout",
     "output_type": "stream",
     "text": [
      "=> Saving checkpoint\n",
      "=> Saving checkpoint\n",
      "Epoch [4/6]\n"
     ]
    },
    {
     "name": "stderr",
     "output_type": "stream",
     "text": [
      "100%|███████████████████████████████████████████████| 6250/6250 [04:48<00:00, 21.69it/s, gp=0.00306, loss_critic=-.338]\n"
     ]
    },
    {
     "name": "stdout",
     "output_type": "stream",
     "text": [
      "=> Saving checkpoint\n",
      "=> Saving checkpoint\n"
     ]
    },
    {
     "name": "stderr",
     "output_type": "stream",
     "text": [
      "\n"
     ]
    },
    {
     "name": "stdout",
     "output_type": "stream",
     "text": [
      "Epoch [5/6]\n"
     ]
    },
    {
     "name": "stderr",
     "output_type": "stream",
     "text": [
      "\r",
      "  0%|                                                                                         | 0/6250 [00:00<?, ?it/s]"
     ]
    },
    {
     "name": "stdout",
     "output_type": "stream",
     "text": [
      "=> Saving checkpoint\n",
      "=> Saving checkpoint\n",
      "Epoch [5/6]\n"
     ]
    },
    {
     "name": "stderr",
     "output_type": "stream",
     "text": [
      "100%|███████████████████████████████████████████████| 6250/6250 [04:48<00:00, 21.65it/s, gp=0.00546, loss_critic=0.137]\n"
     ]
    },
    {
     "name": "stdout",
     "output_type": "stream",
     "text": [
      "=> Saving checkpoint\n",
      "=> Saving checkpoint\n"
     ]
    },
    {
     "name": "stderr",
     "output_type": "stream",
     "text": [
      "\n"
     ]
    },
    {
     "name": "stdout",
     "output_type": "stream",
     "text": [
      "Epoch [6/6]\n"
     ]
    },
    {
     "name": "stderr",
     "output_type": "stream",
     "text": [
      "\r",
      "  0%|                                                                                         | 0/6250 [00:00<?, ?it/s]"
     ]
    },
    {
     "name": "stdout",
     "output_type": "stream",
     "text": [
      "=> Saving checkpoint\n",
      "=> Saving checkpoint\n",
      "Epoch [6/6]\n"
     ]
    },
    {
     "name": "stderr",
     "output_type": "stream",
     "text": [
      "100%|████████████████████████████████████████████████| 6250/6250 [04:47<00:00, 21.73it/s, gp=0.00247, loss_critic=0.13]\n"
     ]
    },
    {
     "name": "stdout",
     "output_type": "stream",
     "text": [
      "=> Saving checkpoint\n",
      "=> Saving checkpoint\n"
     ]
    },
    {
     "name": "stderr",
     "output_type": "stream",
     "text": [
      "\n"
     ]
    },
    {
     "name": "stdout",
     "output_type": "stream",
     "text": [
      "=> Saving checkpoint\n",
      "=> Saving checkpoint\n",
      "Current image size: 16\n",
      "Epoch [1/6]\n"
     ]
    },
    {
     "name": "stderr",
     "output_type": "stream",
     "text": [
      "\r",
      "  0%|                                                                                         | 0/6250 [00:00<?, ?it/s]"
     ]
    },
    {
     "name": "stdout",
     "output_type": "stream",
     "text": [
      "Current image size: 16\n",
      "Epoch [1/6]\n"
     ]
    },
    {
     "name": "stderr",
     "output_type": "stream",
     "text": [
      "100%|██████████████████████████████████████████████| 6250/6250 [06:26<00:00, 16.18it/s, gp=0.00805, loss_critic=0.0448]\n"
     ]
    },
    {
     "name": "stdout",
     "output_type": "stream",
     "text": [
      "=> Saving checkpoint\n",
      "=> Saving checkpoint\n"
     ]
    },
    {
     "name": "stderr",
     "output_type": "stream",
     "text": [
      "\n"
     ]
    },
    {
     "name": "stdout",
     "output_type": "stream",
     "text": [
      "Epoch [2/6]\n"
     ]
    },
    {
     "name": "stderr",
     "output_type": "stream",
     "text": [
      "\r",
      "  0%|                                                                                         | 0/6250 [00:00<?, ?it/s]"
     ]
    },
    {
     "name": "stdout",
     "output_type": "stream",
     "text": [
      "=> Saving checkpoint\n",
      "=> Saving checkpoint\n",
      "Epoch [2/6]\n"
     ]
    },
    {
     "name": "stderr",
     "output_type": "stream",
     "text": [
      "100%|███████████████████████████████████████████████| 6250/6250 [06:26<00:00, 16.16it/s, gp=0.00235, loss_critic=-.103]\n",
      "\n"
     ]
    },
    {
     "name": "stdout",
     "output_type": "stream",
     "text": [
      "=> Saving checkpoint\n",
      "=> Saving checkpoint\n",
      "=> Saving checkpoint\n",
      "=> Saving checkpoint\n",
      "Epoch [3/6]\n",
      "Epoch [3/6]\n"
     ]
    },
    {
     "name": "stderr",
     "output_type": "stream",
     "text": [
      "100%|███████████████████████████████████████████████| 6250/6250 [06:24<00:00, 16.26it/s, gp=0.00511, loss_critic=-.331]\n"
     ]
    },
    {
     "name": "stdout",
     "output_type": "stream",
     "text": [
      "=> Saving checkpoint\n",
      "=> Saving checkpoint\n"
     ]
    },
    {
     "name": "stderr",
     "output_type": "stream",
     "text": [
      "\n"
     ]
    },
    {
     "name": "stdout",
     "output_type": "stream",
     "text": [
      "Epoch [4/6]\n"
     ]
    },
    {
     "name": "stderr",
     "output_type": "stream",
     "text": [
      "\r",
      "  0%|                                                                                         | 0/6250 [00:00<?, ?it/s]"
     ]
    },
    {
     "name": "stdout",
     "output_type": "stream",
     "text": [
      "=> Saving checkpoint\n",
      "=> Saving checkpoint\n",
      "Epoch [4/6]\n"
     ]
    },
    {
     "name": "stderr",
     "output_type": "stream",
     "text": [
      "100%|███████████████████████████████████████████████| 6250/6250 [06:31<00:00, 15.98it/s, gp=0.00369, loss_critic=-.219]\n"
     ]
    },
    {
     "name": "stdout",
     "output_type": "stream",
     "text": [
      "=> Saving checkpoint\n",
      "=> Saving checkpoint\n"
     ]
    },
    {
     "name": "stderr",
     "output_type": "stream",
     "text": [
      "\n"
     ]
    },
    {
     "name": "stdout",
     "output_type": "stream",
     "text": [
      "Epoch [5/6]\n"
     ]
    },
    {
     "name": "stderr",
     "output_type": "stream",
     "text": [
      "\r",
      "  0%|                                                                                         | 0/6250 [00:00<?, ?it/s]"
     ]
    },
    {
     "name": "stdout",
     "output_type": "stream",
     "text": [
      "=> Saving checkpoint\n",
      "=> Saving checkpoint\n",
      "Epoch [5/6]\n"
     ]
    },
    {
     "name": "stderr",
     "output_type": "stream",
     "text": [
      "100%|███████████████████████████████████████████████| 6250/6250 [06:33<00:00, 15.87it/s, gp=0.00457, loss_critic=-.274]\n"
     ]
    },
    {
     "name": "stdout",
     "output_type": "stream",
     "text": [
      "=> Saving checkpoint\n",
      "=> Saving checkpoint\n"
     ]
    },
    {
     "name": "stderr",
     "output_type": "stream",
     "text": [
      "\n"
     ]
    },
    {
     "name": "stdout",
     "output_type": "stream",
     "text": [
      "Epoch [6/6]\n"
     ]
    },
    {
     "name": "stderr",
     "output_type": "stream",
     "text": [
      "\r",
      "  0%|                                                                                         | 0/6250 [00:00<?, ?it/s]"
     ]
    },
    {
     "name": "stdout",
     "output_type": "stream",
     "text": [
      "=> Saving checkpoint\n",
      "=> Saving checkpoint\n",
      "Epoch [6/6]\n"
     ]
    },
    {
     "name": "stderr",
     "output_type": "stream",
     "text": [
      "100%|███████████████████████████████████████████████| 6250/6250 [06:33<00:00, 15.88it/s, gp=0.00321, loss_critic=-.325]\n"
     ]
    },
    {
     "name": "stdout",
     "output_type": "stream",
     "text": [
      "=> Saving checkpoint\n",
      "=> Saving checkpoint\n"
     ]
    },
    {
     "name": "stderr",
     "output_type": "stream",
     "text": [
      "\n"
     ]
    },
    {
     "name": "stdout",
     "output_type": "stream",
     "text": [
      "=> Saving checkpoint\n",
      "=> Saving checkpoint\n",
      "Current image size: 32\n",
      "Epoch [1/6]\n"
     ]
    },
    {
     "name": "stderr",
     "output_type": "stream",
     "text": [
      "\r",
      "  0%|                                                                                         | 0/6250 [00:00<?, ?it/s]"
     ]
    },
    {
     "name": "stdout",
     "output_type": "stream",
     "text": [
      "Current image size: 32\n",
      "Epoch [1/6]\n"
     ]
    },
    {
     "name": "stderr",
     "output_type": "stream",
     "text": [
      "100%|███████████████████████████████████████████████| 6250/6250 [11:23<00:00,  9.15it/s, gp=0.00426, loss_critic=0.604]\n"
     ]
    },
    {
     "name": "stdout",
     "output_type": "stream",
     "text": [
      "=> Saving checkpoint\n"
     ]
    },
    {
     "name": "stderr",
     "output_type": "stream",
     "text": [
      "\n"
     ]
    },
    {
     "name": "stdout",
     "output_type": "stream",
     "text": [
      "=> Saving checkpoint\n",
      "=> Saving checkpoint\n",
      "Epoch [2/6]\n"
     ]
    },
    {
     "name": "stderr",
     "output_type": "stream",
     "text": [
      "\r",
      "  0%|                                                                                         | 0/6250 [00:00<?, ?it/s]"
     ]
    },
    {
     "name": "stdout",
     "output_type": "stream",
     "text": [
      "=> Saving checkpoint\n",
      "Epoch [2/6]\n"
     ]
    },
    {
     "name": "stderr",
     "output_type": "stream",
     "text": [
      "100%|███████████████████████████████████████████████| 6250/6250 [11:28<00:00,  9.08it/s, gp=0.00267, loss_critic=0.418]\n"
     ]
    },
    {
     "name": "stdout",
     "output_type": "stream",
     "text": [
      "=> Saving checkpoint\n"
     ]
    },
    {
     "name": "stderr",
     "output_type": "stream",
     "text": [
      "\n"
     ]
    },
    {
     "name": "stdout",
     "output_type": "stream",
     "text": [
      "=> Saving checkpoint\n",
      "=> Saving checkpoint\n",
      "Epoch [3/6]\n"
     ]
    },
    {
     "name": "stderr",
     "output_type": "stream",
     "text": [
      "\r",
      "  0%|                                                                                         | 0/6250 [00:00<?, ?it/s]"
     ]
    },
    {
     "name": "stdout",
     "output_type": "stream",
     "text": [
      "=> Saving checkpoint\n",
      "Epoch [3/6]\n"
     ]
    },
    {
     "name": "stderr",
     "output_type": "stream",
     "text": [
      "100%|███████████████████████████████████████████████| 6250/6250 [11:30<00:00,  9.06it/s, gp=0.00366, loss_critic=0.517]\n"
     ]
    },
    {
     "name": "stdout",
     "output_type": "stream",
     "text": [
      "=> Saving checkpoint\n"
     ]
    },
    {
     "name": "stderr",
     "output_type": "stream",
     "text": [
      "\n"
     ]
    },
    {
     "name": "stdout",
     "output_type": "stream",
     "text": [
      "=> Saving checkpoint\n",
      "=> Saving checkpoint\n",
      "Epoch [4/6]\n"
     ]
    },
    {
     "name": "stderr",
     "output_type": "stream",
     "text": [
      "\r",
      "  0%|                                                                                         | 0/6250 [00:00<?, ?it/s]"
     ]
    },
    {
     "name": "stdout",
     "output_type": "stream",
     "text": [
      "=> Saving checkpoint\n",
      "Epoch [4/6]\n"
     ]
    },
    {
     "name": "stderr",
     "output_type": "stream",
     "text": [
      "100%|███████████████████████████████████████████████| 6250/6250 [11:27<00:00,  9.09it/s, gp=0.00402, loss_critic=-1.02]\n"
     ]
    },
    {
     "name": "stdout",
     "output_type": "stream",
     "text": [
      "=> Saving checkpoint\n"
     ]
    },
    {
     "name": "stderr",
     "output_type": "stream",
     "text": [
      "\n"
     ]
    },
    {
     "name": "stdout",
     "output_type": "stream",
     "text": [
      "=> Saving checkpoint\n",
      "=> Saving checkpoint\n",
      "Epoch [5/6]\n"
     ]
    },
    {
     "name": "stderr",
     "output_type": "stream",
     "text": [
      "\r",
      "  0%|                                                                                         | 0/6250 [00:00<?, ?it/s]"
     ]
    },
    {
     "name": "stdout",
     "output_type": "stream",
     "text": [
      "=> Saving checkpoint\n",
      "Epoch [5/6]\n"
     ]
    },
    {
     "name": "stderr",
     "output_type": "stream",
     "text": [
      "100%|████████████████████████████████████████████████| 6250/6250 [11:25<00:00,  9.11it/s, gp=0.00222, loss_critic=0.56]\n"
     ]
    },
    {
     "name": "stdout",
     "output_type": "stream",
     "text": [
      "=> Saving checkpoint\n"
     ]
    },
    {
     "name": "stderr",
     "output_type": "stream",
     "text": [
      "\n"
     ]
    },
    {
     "name": "stdout",
     "output_type": "stream",
     "text": [
      "=> Saving checkpoint\n",
      "=> Saving checkpoint\n",
      "Epoch [6/6]\n"
     ]
    },
    {
     "name": "stderr",
     "output_type": "stream",
     "text": [
      "\r",
      "  0%|                                                                                         | 0/6250 [00:00<?, ?it/s]"
     ]
    },
    {
     "name": "stdout",
     "output_type": "stream",
     "text": [
      "=> Saving checkpoint\n",
      "Epoch [6/6]\n"
     ]
    },
    {
     "name": "stderr",
     "output_type": "stream",
     "text": [
      "100%|███████████████████████████████████████████████| 6250/6250 [11:27<00:00,  9.10it/s, gp=0.00569, loss_critic=-.201]\n"
     ]
    },
    {
     "name": "stdout",
     "output_type": "stream",
     "text": [
      "=> Saving checkpoint\n"
     ]
    },
    {
     "name": "stderr",
     "output_type": "stream",
     "text": [
      "\n"
     ]
    },
    {
     "name": "stdout",
     "output_type": "stream",
     "text": [
      "=> Saving checkpoint\n",
      "=> Saving checkpoint\n",
      "=> Saving checkpoint\n",
      "Current image size: 64\n",
      "Epoch [1/6]\n"
     ]
    },
    {
     "name": "stderr",
     "output_type": "stream",
     "text": [
      "\r",
      "  0%|                                                                                        | 0/12500 [00:00<?, ?it/s]"
     ]
    },
    {
     "name": "stdout",
     "output_type": "stream",
     "text": [
      "Current image size: 64\n",
      "Epoch [1/6]\n"
     ]
    },
    {
     "name": "stderr",
     "output_type": "stream",
     "text": [
      "100%|█████████████████████████████████████████████| 12500/12500 [37:11<00:00,  5.60it/s, gp=0.0095, loss_critic=0.0397]\n"
     ]
    },
    {
     "name": "stdout",
     "output_type": "stream",
     "text": [
      "=> Saving checkpoint\n"
     ]
    },
    {
     "name": "stderr",
     "output_type": "stream",
     "text": [
      "\n"
     ]
    },
    {
     "name": "stdout",
     "output_type": "stream",
     "text": [
      "=> Saving checkpoint\n",
      "=> Saving checkpoint\n",
      "Epoch [2/6]\n"
     ]
    },
    {
     "name": "stderr",
     "output_type": "stream",
     "text": [
      "\r",
      "  0%|                                                                                        | 0/12500 [00:00<?, ?it/s]"
     ]
    },
    {
     "name": "stdout",
     "output_type": "stream",
     "text": [
      "=> Saving checkpoint\n",
      "Epoch [2/6]\n"
     ]
    },
    {
     "name": "stderr",
     "output_type": "stream",
     "text": [
      "100%|██████████████████████████████████████████████| 12500/12500 [36:59<00:00,  5.63it/s, gp=0.00175, loss_critic=-1.8]\n"
     ]
    },
    {
     "name": "stdout",
     "output_type": "stream",
     "text": [
      "=> Saving checkpoint\n"
     ]
    },
    {
     "name": "stderr",
     "output_type": "stream",
     "text": [
      "\n"
     ]
    },
    {
     "name": "stdout",
     "output_type": "stream",
     "text": [
      "=> Saving checkpoint\n",
      "=> Saving checkpoint\n",
      "Epoch [3/6]\n",
      "=> Saving checkpoint\n",
      "Epoch [3/6]\n"
     ]
    },
    {
     "name": "stderr",
     "output_type": "stream",
     "text": [
      "100%|███████████████████████████████████████████████| 12500/12500 [36:59<00:00,  5.63it/s, gp=0.00225, loss_critic=2.7]\n"
     ]
    },
    {
     "name": "stdout",
     "output_type": "stream",
     "text": [
      "=> Saving checkpoint\n"
     ]
    },
    {
     "name": "stderr",
     "output_type": "stream",
     "text": [
      "\n"
     ]
    },
    {
     "name": "stdout",
     "output_type": "stream",
     "text": [
      "=> Saving checkpoint\n",
      "=> Saving checkpoint\n",
      "Epoch [4/6]\n"
     ]
    },
    {
     "name": "stderr",
     "output_type": "stream",
     "text": [
      "\r",
      "  0%|                                                                                        | 0/12500 [00:00<?, ?it/s]"
     ]
    },
    {
     "name": "stdout",
     "output_type": "stream",
     "text": [
      "=> Saving checkpoint\n",
      "Epoch [4/6]\n"
     ]
    },
    {
     "name": "stderr",
     "output_type": "stream",
     "text": [
      "100%|█████████████████████████████████████████████| 12500/12500 [39:25<00:00,  5.28it/s, gp=0.00193, loss_critic=-1.33]\n"
     ]
    },
    {
     "name": "stdout",
     "output_type": "stream",
     "text": [
      "=> Saving checkpoint\n"
     ]
    },
    {
     "name": "stderr",
     "output_type": "stream",
     "text": [
      "\n"
     ]
    },
    {
     "name": "stdout",
     "output_type": "stream",
     "text": [
      "=> Saving checkpoint\n",
      "=> Saving checkpoint\n",
      "Epoch [5/6]\n",
      "=> Saving checkpoint\n",
      "Epoch [5/6]\n"
     ]
    },
    {
     "name": "stderr",
     "output_type": "stream",
     "text": [
      "100%|██████████████████████████████████████████████| 12500/12500 [38:13<00:00,  5.45it/s, gp=0.00334, loss_critic=1.32]\n"
     ]
    },
    {
     "name": "stdout",
     "output_type": "stream",
     "text": [
      "=> Saving checkpoint\n"
     ]
    },
    {
     "name": "stderr",
     "output_type": "stream",
     "text": [
      "\n"
     ]
    },
    {
     "name": "stdout",
     "output_type": "stream",
     "text": [
      "=> Saving checkpoint\n",
      "=> Saving checkpoint\n",
      "Epoch [6/6]\n"
     ]
    },
    {
     "name": "stderr",
     "output_type": "stream",
     "text": [
      "\r",
      "  0%|                                                                                        | 0/12500 [00:00<?, ?it/s]"
     ]
    },
    {
     "name": "stdout",
     "output_type": "stream",
     "text": [
      "=> Saving checkpoint\n",
      "Epoch [6/6]\n"
     ]
    },
    {
     "name": "stderr",
     "output_type": "stream",
     "text": [
      "100%|██████████████████████████████████████████████| 12500/12500 [37:47<00:00,  5.51it/s, gp=0.00732, loss_critic=-1.5]\n"
     ]
    },
    {
     "name": "stdout",
     "output_type": "stream",
     "text": [
      "=> Saving checkpoint\n"
     ]
    },
    {
     "name": "stderr",
     "output_type": "stream",
     "text": [
      "\n"
     ]
    },
    {
     "name": "stdout",
     "output_type": "stream",
     "text": [
      "=> Saving checkpoint\n",
      "=> Saving checkpoint\n",
      "=> Saving checkpoint\n",
      "Current image size: 128\n",
      "Epoch [1/6]\n"
     ]
    },
    {
     "name": "stderr",
     "output_type": "stream",
     "text": [
      "\r",
      "  0%|                                                                                        | 0/12500 [00:00<?, ?it/s]"
     ]
    },
    {
     "name": "stdout",
     "output_type": "stream",
     "text": [
      "Current image size: 128\n",
      "Epoch [1/6]\n"
     ]
    },
    {
     "name": "stderr",
     "output_type": "stream",
     "text": [
      " 48%|██████████████████████▏                       | 6025/12500 [36:30<38:30,  2.80it/s, gp=0.00535, loss_critic=-3.38]"
     ]
    }
   ],
   "source": [
    "# initialize gen and disc, note: discriminator should be called critic,\n",
    "# according to WGAN paper (since it no longer outputs between [0, 1])\n",
    "# but really who cares..\n",
    "gen = Generator(\n",
    "    config.Z_DIM, config.IN_CHANNELS, img_channels=config.CHANNELS_IMG\n",
    ").to(config.DEVICE)\n",
    "critic = Discriminator(\n",
    "    config.Z_DIM, config.IN_CHANNELS, img_channels=config.CHANNELS_IMG\n",
    ").to(config.DEVICE)\n",
    "\n",
    "# initialize optimizers and scalers for FP16 training\n",
    "opt_gen = optim.Adam(gen.parameters(), lr=config.LEARNING_RATE, betas=(0.0, 0.99))\n",
    "opt_critic = optim.Adam(\n",
    "    critic.parameters(), lr=config.LEARNING_RATE, betas=(0.0, 0.99)\n",
    ")\n",
    "scaler_critic = torch.cuda.amp.GradScaler()\n",
    "scaler_gen = torch.cuda.amp.GradScaler()\n",
    "\n",
    "# for tensorboard plotting\n",
    "writer = SummaryWriter(f\"logs/gan1\")\n",
    "\n",
    "if config.LOAD_MODEL:\n",
    "    load_checkpoint(\n",
    "        config.CHECKPOINT_GEN, gen, opt_gen, config.LEARNING_RATE,\n",
    "    )\n",
    "    load_checkpoint(\n",
    "        config.CHECKPOINT_CRITIC, critic, opt_critic, config.LEARNING_RATE,\n",
    "    )\n",
    "\n",
    "gen.train()\n",
    "critic.train()\n",
    "\n",
    "tensorboard_step = 0\n",
    "# start at step that corresponds to img size that we set in config\n",
    "step = int(log2(config.START_TRAIN_AT_IMG_SIZE / 4))\n",
    "for num_epochs in config.PROGRESSIVE_EPOCHS[step:]:\n",
    "    alpha = 1e-5  # start with very low alpha\n",
    "    loader, dataset = get_loader(4 * 2 ** step)  # 4->0, 8->1, 16->2, 32->3, 64 -> 4\n",
    "    print(f\"Current image size: {4 * 2 ** step}\")\n",
    "\n",
    "    for epoch in range(num_epochs):\n",
    "        print(f\"Epoch [{epoch+1}/{num_epochs}]\")\n",
    "        tensorboard_step, alpha = train_fn(\n",
    "            critic,\n",
    "            gen,\n",
    "            loader,\n",
    "            dataset,\n",
    "            step,\n",
    "            alpha,\n",
    "            opt_critic,\n",
    "            opt_gen,\n",
    "            tensorboard_step,\n",
    "            writer,\n",
    "            scaler_gen,\n",
    "            scaler_critic,\n",
    "        )\n",
    "\n",
    "        if config.SAVE_MODEL:\n",
    "            save_checkpoint(gen, opt_gen, filename=config.CHECKPOINT_GEN)\n",
    "            save_checkpoint(critic, opt_critic, filename=config.CHECKPOINT_CRITIC)\n",
    "#     break\n",
    "    step += 1  # progress to the next img size"
   ]
  },
  {
   "cell_type": "code",
   "execution_count": null,
   "id": "831ba87e",
   "metadata": {},
   "outputs": [],
   "source": []
  },
  {
   "cell_type": "code",
   "execution_count": null,
   "id": "a3268920",
   "metadata": {},
   "outputs": [],
   "source": []
  },
  {
   "cell_type": "code",
   "execution_count": null,
   "id": "e1e32b21",
   "metadata": {},
   "outputs": [],
   "source": []
  },
  {
   "cell_type": "code",
   "execution_count": null,
   "id": "a675fcbb",
   "metadata": {},
   "outputs": [],
   "source": []
  },
  {
   "cell_type": "code",
   "execution_count": null,
   "id": "4973f86a",
   "metadata": {},
   "outputs": [],
   "source": [
    "import matplotlib.pyplot as plt\n",
    "import numpy as np\n",
    "import torch\n",
    "\n",
    "def plot_images(image_batch):\n",
    "    if len(image_batch.shape) == 3:  # Single image, not batched\n",
    "        image_batch = np.expand_dims(image_batch, axis=0)\n",
    "\n",
    "    if isinstance(image_batch, torch.Tensor):\n",
    "        image_batch = image_batch.detach().cpu().numpy()\n",
    "\n",
    "    image_batch = np.transpose(image_batch, (0, 2, 3, 1))\n",
    "    image_batch = (image_batch + 1) / 2.0\n",
    "\n",
    "    if len(image_batch) == 1:\n",
    "        plt.imshow(np.squeeze(image_batch[0]))\n",
    "        plt.axis('off')\n",
    "        plt.show()\n",
    "    else:\n",
    "        fig, axs = plt.subplots(1, len(image_batch), figsize=(15, 15))\n",
    "        for i, img in enumerate(image_batch):\n",
    "            if img.shape[-1] == 1:\n",
    "                img = img.squeeze(-1)\n",
    "            axs[i].imshow(img)\n",
    "            axs[i].axis('off')\n",
    "        plt.show()\n",
    "# Create a random image batch tensor, assuming shape is (batch_size, channels, height, width)\n",
    "# and pixel values are in [-1, 1]"
   ]
  },
  {
   "cell_type": "code",
   "execution_count": null,
   "id": "bd700d8e",
   "metadata": {},
   "outputs": [],
   "source": [
    "loader8, _ = get_loader(4 * 2 ** 1)\n",
    "loader16, _ = get_loader(4 * 2 ** 2)\n",
    "loader32, _ = get_loader(4 * 2 ** 3)"
   ]
  },
  {
   "cell_type": "code",
   "execution_count": null,
   "id": "7adfc843",
   "metadata": {},
   "outputs": [],
   "source": [
    "images8 = next(iter(loader8))[0]\n",
    "images16 = next(iter(loader16))[0]\n",
    "images32 = next(iter(loader32))[0]"
   ]
  },
  {
   "cell_type": "code",
   "execution_count": null,
   "id": "49ea6b7b",
   "metadata": {},
   "outputs": [],
   "source": [
    "images16 = F.interpolate(images32, scale_factor=0.5, mode=\"nearest\")\n",
    "images8 = F.interpolate(images32, scale_factor=0.25, mode=\"nearest\")"
   ]
  },
  {
   "cell_type": "code",
   "execution_count": null,
   "id": "7097d388",
   "metadata": {},
   "outputs": [],
   "source": [
    "plot_images(images8)\n",
    "plot_images(images16)\n",
    "plot_images(images32)"
   ]
  },
  {
   "cell_type": "code",
   "execution_count": null,
   "id": "d0df2af4",
   "metadata": {},
   "outputs": [],
   "source": []
  },
  {
   "cell_type": "code",
   "execution_count": null,
   "id": "54a0627f",
   "metadata": {},
   "outputs": [],
   "source": [
    "batch = images16.to(config.DEVICE)\n",
    "fakes1 = gen(batch, 1, 2)"
   ]
  },
  {
   "cell_type": "code",
   "execution_count": null,
   "id": "1ceb6879",
   "metadata": {},
   "outputs": [],
   "source": [
    "batch = images32.to(config.DEVICE)\n",
    "fakes2 = gen(batch, 0, 3)"
   ]
  },
  {
   "cell_type": "code",
   "execution_count": null,
   "id": "a73aac8d",
   "metadata": {},
   "outputs": [],
   "source": [
    "image_batch = fakes1.detach().cpu().numpy()\n",
    "plot_images(image_batch)\n",
    "image_batch.shape"
   ]
  },
  {
   "cell_type": "code",
   "execution_count": null,
   "id": "9fa02af6",
   "metadata": {},
   "outputs": [],
   "source": [
    "image_batch = fakes2.detach().cpu().numpy()\n",
    "plot_images(image_batch)\n",
    "image_batch.shape"
   ]
  },
  {
   "cell_type": "code",
   "execution_count": null,
   "id": "60cd012c",
   "metadata": {},
   "outputs": [],
   "source": [
    "out41[0]"
   ]
  },
  {
   "cell_type": "code",
   "execution_count": null,
   "id": "fed6cf1c",
   "metadata": {},
   "outputs": [],
   "source": [
    "out42[1]"
   ]
  },
  {
   "cell_type": "code",
   "execution_count": null,
   "id": "58c36897",
   "metadata": {},
   "outputs": [],
   "source": []
  }
 ],
 "metadata": {
  "kernelspec": {
   "display_name": "GPU-pytorch-2022-10",
   "language": "python",
   "name": "gpu-pytorch-2022-10"
  },
  "language_info": {
   "codemirror_mode": {
    "name": "ipython",
    "version": 3
   },
   "file_extension": ".py",
   "mimetype": "text/x-python",
   "name": "python",
   "nbconvert_exporter": "python",
   "pygments_lexer": "ipython3",
   "version": "3.9.15"
  }
 },
 "nbformat": 4,
 "nbformat_minor": 5
}
